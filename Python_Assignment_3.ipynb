{
  "nbformat": 4,
  "nbformat_minor": 0,
  "metadata": {
    "colab": {
      "name": "Python Assignment 3.ipynb",
      "provenance": [],
      "authorship_tag": "ABX9TyO3PIDHJ/C7CIp6dvB4puD7",
      "include_colab_link": true
    },
    "kernelspec": {
      "name": "python3",
      "display_name": "Python 3"
    }
  },
  "cells": [
    {
      "cell_type": "markdown",
      "metadata": {
        "id": "view-in-github",
        "colab_type": "text"
      },
      "source": [
        "<a href=\"https://colab.research.google.com/github/ashishshaji/assignment_ineuron/blob/master/Python_Assignment_3.ipynb\" target=\"_parent\"><img src=\"https://colab.research.google.com/assets/colab-badge.svg\" alt=\"Open In Colab\"/></a>"
      ]
    },
    {
      "cell_type": "markdown",
      "metadata": {
        "id": "_eEHehMPLGvs",
        "colab_type": "text"
      },
      "source": [
        "# Python Assignment 3\n",
        "## Question 1\n",
        "\n",
        "1.1 Write a Python Program to implement your own myreduce() function which works exactly\n",
        "like Python's built-in function reduce()"
      ]
    },
    {
      "cell_type": "code",
      "metadata": {
        "id": "_N_mPjS_LEge",
        "colab_type": "code",
        "colab": {
          "base_uri": "https://localhost:8080/",
          "height": 54
        },
        "outputId": "480f3b1a-f681-47ef-d76d-12136307173f"
      },
      "source": [
        "# anyfunc passes the function to myreduce function\n",
        "def myreduce(anyfun, seq):\n",
        "\n",
        " # Get first item in sequence and assign to result\n",
        "  result = seq[0]\n",
        " # iterate over remaining items in sequence and apply reduction function \n",
        "  for item in seq[1:]:\n",
        "   result = anyfun(result, item)\n",
        "\n",
        "  return result\n",
        "def prod(x,y): return x*y\n",
        "\n",
        "print (\"Sum of first 4 natural numbers :\"   + str(myreduce(lambda x,y:x+y, [1,2,3,4])) )\n",
        "\n",
        "print (\"Product of first 4 natural numbers :\"   + str(myreduce(prod, [1,2,3,4])) )"
      ],
      "execution_count": 1,
      "outputs": [
        {
          "output_type": "stream",
          "text": [
            "Sum of first 4 natural numbers :10\n",
            "Product of first 4 natural numbers :24\n"
          ],
          "name": "stdout"
        }
      ]
    },
    {
      "cell_type": "markdown",
      "metadata": {
        "id": "R5Q-tt2neyLZ",
        "colab_type": "text"
      },
      "source": [
        "\n",
        "**1.2**\n",
        "Write a Python program to implement your own myfilter() function which works exactly\n",
        "like Python's built-in function filter()"
      ]
    },
    {
      "cell_type": "code",
      "metadata": {
        "id": "dJI38BLrfC1K",
        "colab_type": "code",
        "colab": {
          "base_uri": "https://localhost:8080/",
          "height": 54
        },
        "outputId": "98ec499e-7a1c-4979-b250-adebc3e1185b"
      },
      "source": [
        "# Custom filter function \n",
        "def myfilter(anyfun, sequence):\n",
        "\n",
        " result = []\n",
        " # iterate over sequence of items in sequence and apply filter function\n",
        " for item in sequence:\n",
        "  if anyfun(item):\n",
        "   result.append(item)\n",
        "\n",
        " # return funal output\n",
        " return result\n",
        "\n",
        "\n",
        "# custom function to  check a number is odd or not\n",
        "def even_checker(num):\n",
        "  if (num%2==0):\n",
        "    return True\n",
        "  else:\n",
        "    return False\n",
        "  \n",
        "   \n",
        "\n",
        "custom_list=range(30)\n",
        "\n",
        "print(\"filter even number from 0 t0 30:\")    \n",
        "print(str(myfilter(even_checker, custom_list) ))"
      ],
      "execution_count": 2,
      "outputs": [
        {
          "output_type": "stream",
          "text": [
            "filter even number from 0 t0 30:\n",
            "[0, 2, 4, 6, 8, 10, 12, 14, 16, 18, 20, 22, 24, 26, 28]\n"
          ],
          "name": "stdout"
        }
      ]
    },
    {
      "cell_type": "markdown",
      "metadata": {
        "id": "noM6VcXLvbms",
        "colab_type": "text"
      },
      "source": [
        "## Question *2*\n",
        "\n",
        "Implement List comprehensions to produce the following lists. Write List comprehensions to produce the following Lists\n",
        "\n",
        "\n",
        "\n",
        "['x', 'xx', 'xxx', 'xxxx', 'y', 'yy', 'yyy', 'yyyy', 'z', 'zz', 'zzz', 'zzzz']\n",
        "\n",
        "['x', 'y', 'z', 'xx', 'yy', 'zz', 'xxx', 'yyy', 'zzz', 'xxxx', 'yyyy', 'zzzz']\n",
        "\n",
        "[[2], [3], [4], [3], [4], [5], [4], [5], [6]]\n",
        "\n",
        "[[2, 3, 4, 5], [3, 4, 5, 6], [4, 5, 6, 7], [5, 6, 7, 8]]\n",
        "\n",
        "[(1, 1), (2, 1), (3, 1), (1, 2), (2, 2), (3, 2), (1, 3), (2, 3), (3, 3)]"
      ]
    },
    {
      "cell_type": "code",
      "metadata": {
        "id": "A8qkx4DTs07y",
        "colab_type": "code",
        "colab": {
          "base_uri": "https://localhost:8080/",
          "height": 35
        },
        "outputId": "b718823a-2f3c-4a70-deb6-5e338a92b6dc"
      },
      "source": [
        "l1 = list(\"xyz\")\n",
        "[letter*i for letter in l1 for i in range(1,5) ]"
      ],
      "execution_count": 3,
      "outputs": [
        {
          "output_type": "execute_result",
          "data": {
            "text/plain": [
              "['x', 'xx', 'xxx', 'xxxx', 'y', 'yy', 'yyy', 'yyyy', 'z', 'zz', 'zzz', 'zzzz']"
            ]
          },
          "metadata": {
            "tags": []
          },
          "execution_count": 3
        }
      ]
    },
    {
      "cell_type": "code",
      "metadata": {
        "id": "yPC-6Z0Z2MnN",
        "colab_type": "code",
        "colab": {
          "base_uri": "https://localhost:8080/",
          "height": 35
        },
        "outputId": "b2338c8f-a8ce-45c3-d533-937067fc286e"
      },
      "source": [
        "[letter*i for letter in l1 for i in range(1,5) for l1 in letter]"
      ],
      "execution_count": 4,
      "outputs": [
        {
          "output_type": "execute_result",
          "data": {
            "text/plain": [
              "['x', 'xx', 'xxx', 'xxxx', 'y', 'yy', 'yyy', 'yyyy', 'z', 'zz', 'zzz', 'zzzz']"
            ]
          },
          "metadata": {
            "tags": []
          },
          "execution_count": 4
        }
      ]
    },
    {
      "cell_type": "code",
      "metadata": {
        "id": "iESqFNhQxmSm",
        "colab_type": "code",
        "colab": {
          "base_uri": "https://localhost:8080/",
          "height": 35
        },
        "outputId": "fbb066d5-ccd2-47c6-ac86-65b2550ba8d5"
      },
      "source": [
        "l2=[2,3,4]\n",
        "[[i+j] for i in l2 for j in range(0,3) ]"
      ],
      "execution_count": 5,
      "outputs": [
        {
          "output_type": "execute_result",
          "data": {
            "text/plain": [
              "[[2], [3], [4], [3], [4], [5], [4], [5], [6]]"
            ]
          },
          "metadata": {
            "tags": []
          },
          "execution_count": 5
        }
      ]
    },
    {
      "cell_type": "code",
      "metadata": {
        "id": "1ZhyMGQJ0jXa",
        "colab_type": "code",
        "colab": {
          "base_uri": "https://localhost:8080/",
          "height": 35
        },
        "outputId": "e5898e28-cfb7-4689-cc66-09e5e848bd43"
      },
      "source": [
        "l3=[2,3,4,5]\n",
        "[[i+j for i in l3] for  j in range(0,4)] \n"
      ],
      "execution_count": 6,
      "outputs": [
        {
          "output_type": "execute_result",
          "data": {
            "text/plain": [
              "[[2, 3, 4, 5], [3, 4, 5, 6], [4, 5, 6, 7], [5, 6, 7, 8]]"
            ]
          },
          "metadata": {
            "tags": []
          },
          "execution_count": 6
        }
      ]
    },
    {
      "cell_type": "code",
      "metadata": {
        "id": "vUlR0mvW5gW0",
        "colab_type": "code",
        "colab": {
          "base_uri": "https://localhost:8080/",
          "height": 35
        },
        "outputId": "c1cbbddf-86c1-42cc-e8b5-322ca0fc732a"
      },
      "source": [
        "l4=[1,2,3]\n",
        "[(j,i) for i in l4 for j in l4]"
      ],
      "execution_count": 7,
      "outputs": [
        {
          "output_type": "execute_result",
          "data": {
            "text/plain": [
              "[(1, 1), (2, 1), (3, 1), (1, 2), (2, 2), (3, 2), (1, 3), (2, 3), (3, 3)]"
            ]
          },
          "metadata": {
            "tags": []
          },
          "execution_count": 7
        }
      ]
    },
    {
      "cell_type": "code",
      "metadata": {
        "id": "7VUhGStj_bZy",
        "colab_type": "code",
        "colab": {}
      },
      "source": [
        ""
      ],
      "execution_count": 7,
      "outputs": []
    }
  ]
}