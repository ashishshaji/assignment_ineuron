{
  "nbformat": 4,
  "nbformat_minor": 0,
  "metadata": {
    "colab": {
      "name": "Python Assignment 3.ipynb",
      "provenance": [],
      "authorship_tag": "ABX9TyNKNuNTLlash3VFiQiq3Byr",
      "include_colab_link": true
    },
    "kernelspec": {
      "name": "python3",
      "display_name": "Python 3"
    }
  },
  "cells": [
    {
      "cell_type": "markdown",
      "metadata": {
        "id": "view-in-github",
        "colab_type": "text"
      },
      "source": [
        "<a href=\"https://colab.research.google.com/github/ashishshaji/assignment_ineuron/blob/master/Python_Assignment_3.ipynb\" target=\"_parent\"><img src=\"https://colab.research.google.com/assets/colab-badge.svg\" alt=\"Open In Colab\"/></a>"
      ]
    },
    {
      "cell_type": "markdown",
      "metadata": {
        "id": "_eEHehMPLGvs",
        "colab_type": "text"
      },
      "source": [
        "# Python Assignment 3\n",
        "## Question 1\n",
        "\n",
        "1.1 Write a Python Program to implement your own myreduce() function which works exactly\n",
        "like Python's built-in function reduce()"
      ]
    },
    {
      "cell_type": "code",
      "metadata": {
        "id": "_N_mPjS_LEge",
        "colab_type": "code",
        "colab": {
          "base_uri": "https://localhost:8080/",
          "height": 35
        },
        "outputId": "3bc887ef-7e28-421c-c6db-8eb7bd9f4fcc"
      },
      "source": [
        "def myreduce(anyfunc, sequence):\n",
        "\n",
        " # Get first item in sequence and assign to result\n",
        "  result = sequence[0]\n",
        " # iterate over remaining items in sequence and apply reduction function \n",
        "  for item in sequence[1:]:\n",
        "   result = anyfunc(result, item)\n",
        "\n",
        "  return result\n",
        "#def sum(x,y): return x + y\n",
        "\n",
        "print (\"Sum of first 3 natural numbers :\"   + str(myreduce(lambda x,y:x+y, [1,2,3])) )\n",
        "\n"
      ],
      "execution_count": 3,
      "outputs": [
        {
          "output_type": "stream",
          "text": [
            "Sum of first 3 natural numbers 6\n"
          ],
          "name": "stdout"
        }
      ]
    },
    {
      "cell_type": "markdown",
      "metadata": {
        "id": "zFw-SLsLe55P",
        "colab_type": "text"
      },
      "source": [
        ""
      ]
    },
    {
      "cell_type": "markdown",
      "metadata": {
        "id": "R5Q-tt2neyLZ",
        "colab_type": "text"
      },
      "source": [
        "\n",
        "**1.2**\n",
        "Write a Python program to implement your own myfilter() function which works exactly\n",
        "like Python's built-in function filter()"
      ]
    },
    {
      "cell_type": "code",
      "metadata": {
        "id": "dJI38BLrfC1K",
        "colab_type": "code",
        "colab": {}
      },
      "source": [
        ""
      ],
      "execution_count": 3,
      "outputs": []
    }
  ]
}