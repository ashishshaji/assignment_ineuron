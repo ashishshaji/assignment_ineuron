{
  "nbformat": 4,
  "nbformat_minor": 0,
  "metadata": {
    "colab": {
      "name": "Assignment2.ipynb",
      "provenance": [],
      "collapsed_sections": [],
      "authorship_tag": "ABX9TyM5mluDGn+kePHpjKhydWLt",
      "include_colab_link": true
    },
    "kernelspec": {
      "name": "python3",
      "display_name": "Python 3"
    }
  },
  "cells": [
    {
      "cell_type": "markdown",
      "metadata": {
        "id": "view-in-github",
        "colab_type": "text"
      },
      "source": [
        "<a href=\"https://colab.research.google.com/github/ashishshaji/assignment_ineuron/blob/master/Assignment2.ipynb\" target=\"_parent\"><img src=\"https://colab.research.google.com/assets/colab-badge.svg\" alt=\"Open In Colab\"/></a>"
      ]
    },
    {
      "cell_type": "markdown",
      "metadata": {
        "id": "-8y5RDIChhFz",
        "colab_type": "text"
      },
      "source": [
        "## Assignment 2\n",
        "<h4>Question 1</h4>\n",
        "Write a Python program to reverse a word after accepting the input from the user.\n",
        "\n",
        "\n",
        " \n",
        "\n",
        "\n",
        "\n",
        "\n"
      ]
    },
    {
      "cell_type": "code",
      "metadata": {
        "id": "6Y8XqL4Aiuxs",
        "colab_type": "code",
        "colab": {
          "base_uri": "https://localhost:8080/",
          "height": 199
        },
        "outputId": "3cdd107f-9a8b-40c1-ea3c-f663692daa50"
      },
      "source": [
        "\n",
        "for i in range(5):\n",
        "  print(\"* \"*i)\n",
        "  \n",
        "for i in range(5,0,-1):\n",
        "  print(\"* \"*i)\n"
      ],
      "execution_count": 7,
      "outputs": [
        {
          "output_type": "stream",
          "text": [
            "\n",
            "* \n",
            "* * \n",
            "* * * \n",
            "* * * * \n",
            "* * * * * \n",
            "* * * * \n",
            "* * * \n",
            "* * \n",
            "* \n"
          ],
          "name": "stdout"
        }
      ]
    },
    {
      "cell_type": "markdown",
      "metadata": {
        "id": "cNO0x_U5i9qu",
        "colab_type": "text"
      },
      "source": [
        "<h4>Question 2</h4>\n",
        "\n",
        "Write a Python program to reverse a word after accepting the input from the user."
      ]
    },
    {
      "cell_type": "code",
      "metadata": {
        "id": "GY14jO4pi9Dm",
        "colab_type": "code",
        "colab": {
          "base_uri": "https://localhost:8080/",
          "height": 54
        },
        "outputId": "74537709-0bc9-44bb-f205-bae7a191a0aa"
      },
      "source": [
        "s = input(\"Enter a string: \")\n",
        "print(s[::-1])"
      ],
      "execution_count": null,
      "outputs": [
        {
          "output_type": "stream",
          "text": [
            "Enter a string: inueron\n",
            "noreuni\n"
          ],
          "name": "stdout"
        }
      ]
    }
  ]
}