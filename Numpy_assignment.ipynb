{
  "nbformat": 4,
  "nbformat_minor": 0,
  "metadata": {
    "kernelspec": {
      "display_name": "Python 3",
      "language": "python",
      "name": "python3"
    },
    "language_info": {
      "codemirror_mode": {
        "name": "ipython",
        "version": 3
      },
      "file_extension": ".py",
      "mimetype": "text/x-python",
      "name": "python",
      "nbconvert_exporter": "python",
      "pygments_lexer": "ipython3",
      "version": "3.7.6"
    },
    "colab": {
      "name": " Numpy_assignment.ipynb",
      "provenance": [],
      "include_colab_link": true
    }
  },
  "cells": [
    {
      "cell_type": "markdown",
      "metadata": {
        "id": "view-in-github",
        "colab_type": "text"
      },
      "source": [
        "<a href=\"https://colab.research.google.com/github/ashishshaji/assignment_ineuron/blob/master/Numpy_assignment.ipynb\" target=\"_parent\"><img src=\"https://colab.research.google.com/assets/colab-badge.svg\" alt=\"Open In Colab\"/></a>"
      ]
    },
    {
      "cell_type": "markdown",
      "metadata": {
        "id": "x1JpX0GH5ESE"
      },
      "source": [
        "#### 1. Write a function so that the columns of the output matrix are powers of the input vector. \n",
        "\n",
        "The order of the powers is determined by the increasing boolean argument. Specifically, when increasing is False, the i-th output column is the input vector raised element-wise to the power of N - i - 1."
      ]
    },
    {
      "cell_type": "code",
      "metadata": {
        "id": "ZH8HJ8465ESG",
        "colab": {
          "base_uri": "https://localhost:8080/"
        },
        "outputId": "e2782fda-a4bd-4f85-aaa1-09a1ab125029"
      },
      "source": [
        "# Inputing the vector from the user\n",
        "import numpy as np\n",
        "user_array=[]\n",
        "n=int(input('enter no of elements:'))\n",
        "for i in range(n):\n",
        "    e=int(input( i))\n",
        "    user_array.append(e)\n",
        "    \n",
        "# Converting list to numpy array    \n",
        "user_array=np.array(user_array) \n",
        "print('input vector:',user_array)\n"
      ],
      "execution_count": 1,
      "outputs": [
        {
          "output_type": "stream",
          "text": [
            "enter no of elements:3\n",
            "1\n",
            "12\n",
            "23\n",
            "input vector: [1 2 3]\n"
          ],
          "name": "stdout"
        }
      ]
    },
    {
      "cell_type": "code",
      "metadata": {
        "id": "t-9I-T3m5ESI",
        "colab": {
          "base_uri": "https://localhost:8080/"
        },
        "outputId": "36fc3bbe-6126-44ef-bca9-25df28c2eaa7"
      },
      "source": [
        "# Defining a function to find the Vandermonde matrix\n",
        "def vander_mat(x,N):\n",
        "    x=np.column_stack([x**(N-1-i) for i in range(N)])\n",
        "    print(x)\n",
        "      \n",
        "vander_mat(user_array,n)"
      ],
      "execution_count": 2,
      "outputs": [
        {
          "output_type": "stream",
          "text": [
            "[[1 1 1]\n",
            " [4 2 1]\n",
            " [9 3 1]]\n"
          ],
          "name": "stdout"
        }
      ]
    },
    {
      "cell_type": "markdown",
      "metadata": {
        "id": "cVkIDXgx5ESK"
      },
      "source": [
        "#### 2. Write a function to find moving average in an array over a window:\n",
        "Test it over [3, 5, 7, 2, 8, 10, 11, 65, 72, 81, 99, 100, 150] and window of 3."
      ]
    },
    {
      "cell_type": "code",
      "metadata": {
        "id": "ATadOnVM5ESM",
        "colab": {
          "base_uri": "https://localhost:8080/"
        },
        "outputId": "f97e2e72-0040-4357-ce5e-78fc896075dc"
      },
      "source": [
        "x=np.array([3, 5, 7, 2, 8, 10, 11, 65, 72, 81, 99, 100, 150])\n",
        "k=3\n",
        "print('input array:',x)\n",
        "\n",
        "def mov_avg(x,k):\n",
        "    for i in range(len(x)-2):\n",
        "        sum=0\n",
        "        for j in range(i,i+k):\n",
        "            sum+=x[j]\n",
        "        print('y'+str(i),int(sum/k))\n",
        "        \n",
        "mov_avg(x,k)"
      ],
      "execution_count": 3,
      "outputs": [
        {
          "output_type": "stream",
          "text": [
            "input array: [  3   5   7   2   8  10  11  65  72  81  99 100 150]\n",
            "y0 5\n",
            "y1 4\n",
            "y2 5\n",
            "y3 6\n",
            "y4 9\n",
            "y5 28\n",
            "y6 49\n",
            "y7 72\n",
            "y8 84\n",
            "y9 93\n",
            "y10 116\n"
          ],
          "name": "stdout"
        }
      ]
    }
  ]
}