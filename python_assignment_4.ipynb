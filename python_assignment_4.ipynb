{
  "nbformat": 4,
  "nbformat_minor": 0,
  "metadata": {
    "kernelspec": {
      "display_name": "Python 3",
      "language": "python",
      "name": "python3"
    },
    "language_info": {
      "codemirror_mode": {
        "name": "ipython",
        "version": 3
      },
      "file_extension": ".py",
      "mimetype": "text/x-python",
      "name": "python",
      "nbconvert_exporter": "python",
      "pygments_lexer": "ipython3",
      "version": "3.7.6"
    },
    "colab": {
      "name": "python_assignment_4.ipynb",
      "provenance": [],
      "include_colab_link": true
    }
  },
  "cells": [
    {
      "cell_type": "markdown",
      "metadata": {
        "id": "view-in-github",
        "colab_type": "text"
      },
      "source": [
        "<a href=\"https://colab.research.google.com/github/ashishshaji/assignment_ineuron/blob/master/python_assignment_4.ipynb\" target=\"_parent\"><img src=\"https://colab.research.google.com/assets/colab-badge.svg\" alt=\"Open In Colab\"/></a>"
      ]
    },
    {
      "cell_type": "markdown",
      "metadata": {
        "id": "y-NQsb7Pn1fW"
      },
      "source": [
        "## Python Assignment 4"
      ]
    },
    {
      "cell_type": "markdown",
      "metadata": {
        "id": "MKoh6Y7kn1fX"
      },
      "source": [
        "#### 1.1 Write a Python Program(with class concepts) to find the area of the triangle using the below formula.\n",
        "area = (s*(s-a)*(s-b)*(s-c)) *** 0.5\n",
        "\n",
        "Function to take the length of the sides of triangle from user should be defined in the parent\n",
        "class and function to calculate the area should be defined in subclass.\n"
      ]
    },
    {
      "cell_type": "code",
      "metadata": {
        "id": "3yAnDWCDn1fY"
      },
      "source": [
        "# Parent Class\n",
        "class Triangle:\n",
        "    def __init__(self,a,b,c):\n",
        "        self.a=a\n",
        "        self.b=b\n",
        "        self.c=c\n",
        "\n",
        "# Sub Class\n",
        "class Area(Triangle):\n",
        "    def __init__(self,*args):\n",
        "        super(Area, self).__init__(*args)\n",
        "        \n",
        "    def t_area(self):\n",
        "        s=(self.a+self.b+self.c)/2\n",
        "        return  ((s*(s-self.a)*(s-self.b)*(s-self.c)) ** 0.5)\n",
        "    "
      ],
      "execution_count": 1,
      "outputs": []
    },
    {
      "cell_type": "code",
      "metadata": {
        "id": "HonReSP3n1fZ",
        "colab": {
          "base_uri": "https://localhost:8080/"
        },
        "outputId": "041cf2b6-83b9-4be6-bb6c-668e2d4e55bf"
      },
      "source": [
        "# creating object.\n",
        "t=Area(15,15,20)\n",
        "\n",
        "# Calling Area function. \n",
        "t.t_area()"
      ],
      "execution_count": 2,
      "outputs": [
        {
          "output_type": "execute_result",
          "data": {
            "text/plain": [
              "111.80339887498948"
            ]
          },
          "metadata": {
            "tags": []
          },
          "execution_count": 2
        }
      ]
    },
    {
      "cell_type": "markdown",
      "metadata": {
        "id": "pYTIWEh9n1fc"
      },
      "source": [
        "#### 1.2 Write a function filter_long_words() that takes a list of words and an integer n and returns the list of words that are longer than n.\n"
      ]
    },
    {
      "cell_type": "code",
      "metadata": {
        "id": "8kNBp8lhn1fc",
        "colab": {
          "base_uri": "https://localhost:8080/"
        },
        "outputId": "3cacc108-bba3-4f99-da60-bae80dbd1056"
      },
      "source": [
        "def filter_long_words(l,n):\n",
        "    new=[]\n",
        "    for i in l:\n",
        "        if len(i)>n:\n",
        "            new.append(i)\n",
        "    print(new)\n",
        "\n",
        "\n",
        "l=['abc','pqrs','qwe']\n",
        "n=3\n",
        "\n",
        "filter_long_words(l,n)"
      ],
      "execution_count": 3,
      "outputs": [
        {
          "output_type": "stream",
          "text": [
            "['pqrs']\n"
          ],
          "name": "stdout"
        }
      ]
    },
    {
      "cell_type": "markdown",
      "metadata": {
        "id": "fGWzmVh2n1fd"
      },
      "source": [
        "##### 2.1 Write a Python program using function concept that maps list of words into a list of integers representing the lengths of the corresponding words.\n"
      ]
    },
    {
      "cell_type": "code",
      "metadata": {
        "id": "E8vG36MOn1fd",
        "colab": {
          "base_uri": "https://localhost:8080/"
        },
        "outputId": "abccc2f6-d7d2-4f20-8ae0-8191d8f555e6"
      },
      "source": [
        "def length(i):\n",
        "    return len(i)\n",
        "\n",
        "l=['ab','cde','erty']\n",
        "\n",
        "print(list((map(length,l))))        "
      ],
      "execution_count": 6,
      "outputs": [
        {
          "output_type": "stream",
          "text": [
            "[2, 3, 4]\n"
          ],
          "name": "stdout"
        }
      ]
    },
    {
      "cell_type": "markdown",
      "metadata": {
        "id": "tBc9aYFRn1ff"
      },
      "source": [
        "#### 2.2 Write a Python function which takes a character (i.e. a string of length 1) and returns True if it is a vowel, False otherwise."
      ]
    },
    {
      "cell_type": "code",
      "metadata": {
        "id": "RM_o5jErn1ff",
        "colab": {
          "base_uri": "https://localhost:8080/"
        },
        "outputId": "ddd16434-009c-476a-e314-007eed54e794"
      },
      "source": [
        "def is_vowel(a):\n",
        "    if a in ['a','e','i','o','u']:\n",
        "        return True\n",
        "    else:\n",
        "        return False\n",
        "    \n",
        "a=input('enter an alphabet:')\n",
        "\n",
        "print(is_vowel(a))\n"
      ],
      "execution_count": 10,
      "outputs": [
        {
          "output_type": "stream",
          "text": [
            "enter an alphabet:e\n",
            "True\n"
          ],
          "name": "stdout"
        }
      ]
    },
    {
      "cell_type": "code",
      "metadata": {
        "colab": {
          "base_uri": "https://localhost:8080/"
        },
        "id": "jwXw1gMty5uH",
        "outputId": "9b244e11-675b-4cb3-bcf2-cc5629b3a291"
      },
      "source": [
        "\n",
        "a=input('enter an alphabet:')\n",
        "\n",
        "print(is_vowel(a))"
      ],
      "execution_count": 9,
      "outputs": [
        {
          "output_type": "stream",
          "text": [
            "enter an alphabet:c\n",
            "False\n"
          ],
          "name": "stdout"
        }
      ]
    },
    {
      "cell_type": "code",
      "metadata": {
        "id": "tSknUPD1zKL8"
      },
      "source": [
        ""
      ],
      "execution_count": null,
      "outputs": []
    }
  ]
}