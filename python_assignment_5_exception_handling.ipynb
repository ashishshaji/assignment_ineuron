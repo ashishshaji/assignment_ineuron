{
  "nbformat": 4,
  "nbformat_minor": 0,
  "metadata": {
    "colab": {
      "name": "python_assignment_5_exception_handling.ipynb",
      "provenance": [],
      "authorship_tag": "ABX9TyPzDGSSglbRotUlz79FjhNM",
      "include_colab_link": true
    },
    "kernelspec": {
      "name": "python3",
      "display_name": "Python 3"
    }
  },
  "cells": [
    {
      "cell_type": "markdown",
      "metadata": {
        "id": "view-in-github",
        "colab_type": "text"
      },
      "source": [
        "<a href=\"https://colab.research.google.com/github/ashishshaji/assignment_ineuron/blob/master/python_assignment_5_exception_handling.ipynb\" target=\"_parent\"><img src=\"https://colab.research.google.com/assets/colab-badge.svg\" alt=\"Open In Colab\"/></a>"
      ]
    },
    {
      "cell_type": "markdown",
      "metadata": {
        "id": "v4kcZ8P5agl9"
      },
      "source": [
        "Write a function to compute 5/0 and use try/except to catch the exceptions."
      ]
    },
    {
      "cell_type": "code",
      "metadata": {
        "id": "nqVP3ooOZ7YF",
        "outputId": "9792c846-b216-4043-f7cf-f08e0f162896",
        "colab": {
          "base_uri": "https://localhost:8080/",
          "height": 35
        }
      },
      "source": [
        " def div(number):\n",
        "    try:\n",
        "       number%0 \n",
        "    except ZeroDivisionError: \n",
        "      print(\"Division by zero is not possible\")\n",
        "div(5)"
      ],
      "execution_count": 1,
      "outputs": [
        {
          "output_type": "stream",
          "text": [
            "Division by zero is not possible\n"
          ],
          "name": "stdout"
        }
      ]
    },
    {
      "cell_type": "markdown",
      "metadata": {
        "id": "lk-iep8dbF-H"
      },
      "source": [
        "2. Implement a Python program to generate all sentences where subject is in  [\"Americans\", \"Indians\"] and verb is in [\"Play\", \"watch\"] and the object is in  [\"Baseball\",\"cricket\"]. \n",
        "<br>\n",
        "Hint: Subject,Verb and Object should be declared in the program as shown below. <br>\n",
        "\n",
        "subjects=[\"Americans \",\"Indians\"] \n",
        "\n",
        "verbs=[\"play\",\"watch\"] \n",
        "\n",
        "objects=[\"Baseball\",\"Cricket\"] \n",
        "\n"
      ]
    },
    {
      "cell_type": "code",
      "metadata": {
        "id": "IeQA-qtJa_LQ",
        "outputId": "726bc04e-620b-46d5-ddba-0d96d12d2fde",
        "colab": {
          "base_uri": "https://localhost:8080/",
          "height": 163
        }
      },
      "source": [
        "\n",
        "subjects=[\"Americans \",\"Indians\"] \n",
        "\n",
        "verbs=[\"play\",\"watch\"] \n",
        "\n",
        "objects=[\"Baseball\",\"Cricket\"] \n",
        "\n",
        "sent=[(sub + \" \" + verb +  \" \" + obj) for sub in subjects for verb in verbs for obj in objects]\n",
        "for s in sent:\n",
        "  print(s)"
      ],
      "execution_count": 6,
      "outputs": [
        {
          "output_type": "stream",
          "text": [
            "Americans  play Baseball\n",
            "Americans  play Cricket\n",
            "Americans  watch Baseball\n",
            "Americans  watch Cricket\n",
            "Indians play Baseball\n",
            "Indians play Cricket\n",
            "Indians watch Baseball\n",
            "Indians watch Cricket\n"
          ],
          "name": "stdout"
        }
      ]
    }
  ]
}